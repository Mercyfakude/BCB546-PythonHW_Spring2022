{
 "cells": [
  {
   "cell_type": "code",
   "execution_count": 1,
   "id": "14169e25",
   "metadata": {},
   "outputs": [
    {
     "name": "stdout",
     "output_type": "stream",
     "text": [
      "Collecting package metadata (current_repodata.json): ...working... done\n",
      "Solving environment: ...working... done\n",
      "\n",
      "# All requested packages already installed.\n",
      "\n",
      "\n",
      "Note: you may need to restart the kernel to use updated packages.\n"
     ]
    }
   ],
   "source": [
    "conda install Biopython"
   ]
  },
  {
   "cell_type": "code",
   "execution_count": 2,
   "id": "04c6d260",
   "metadata": {},
   "outputs": [],
   "source": [
    "from Bio import SeqIO\n",
    "from Bio.Data import CodonTable\n",
    "import pandas as pd"
   ]
  },
  {
   "cell_type": "markdown",
   "id": "634a370a",
   "metadata": {},
   "source": [
    "# Task 1\n",
    "Dr.X used these commands: \n",
    "1. Def command to defines the function (get_sequence_from_file), and extract sequences from one file using a list from another file\n",
    "2. He then created a for loop and used the parse command to create a record of the sequences using these the below commands: \n",
    "     sequence_data_dict = {} - creates a tuple for the newly extracted sequences, and use {} to create an empty dictionary\n",
    "     record.description.split - creates a record of each sequence and store it in the variable named description\n",
    "3. He then created an object (species names) to add names to each of the sequences\n",
    "     \n",
    "Ref: https://www.geeksforgeeks.org/python-def-keyword/ \n",
    "   : https://biopython.org/docs/1.75/api/Bio.SeqIO.html"
   ]
  },
  {
   "cell_type": "code",
   "execution_count": 5,
   "id": "cb135d8f",
   "metadata": {},
   "outputs": [],
   "source": [
    "def get_sequences_from_file(fasta_fn):\n",
    "    sequence_data_dict = {}\n",
    "    for record in SeqIO.parse(fasta_fn, \"fasta\"):\n",
    "        description = record.description.split()\n",
    "        species_name = description[1] + \" \" + description[2]\n",
    "        sequence_data_dict[species_name] = record.seq\n",
    "    return(sequence_data_dict)"
   ]
  },
  {
   "cell_type": "code",
   "execution_count": 6,
   "id": "a39994b0",
   "metadata": {},
   "outputs": [
    {
     "data": {
      "text/plain": [
       "{'Aptenodytes forsteri': Seq('ATGGCCCCAAATCTCCGAAAATCCCATCCCCTCCTAAAAATAATTAATAACTCC...TAA'),\n",
       " 'Aptenodytes patagonicus': Seq('ATGGCCCCAAACCTCCGAAAATCCCATCCTCTCCTAAAAATAATTAATAACTCC...TAA'),\n",
       " 'Eudyptes chrysocome': Seq('ATGGCCCCCAACCTCCGAAAATCCCACCCCCTCCTAAAAACAATCAATAACTCC...TAA'),\n",
       " 'Eudyptes chrysolophus': Seq('ATGGCCCCCAACCTCCGAAAATCCCACCCCCTCCTAAAAACAATCAATAACTCC...TAA'),\n",
       " 'Eudyptes sclateri': Seq('ATGGCCCCCAACCTCCGAAAATCCCACCCCCTCCTAAAAACAATCAATAACTCC...TAA'),\n",
       " 'Eudyptula minor': Seq('ATGGCCCCCAACCTCCGAAAATCTCACCCCCTCCTAAAAATAATCAACAACTCT...TAA'),\n",
       " 'Pygoscelis adeliae': Seq('ATGGCCCCCAACCTCCGAAAATCCCACCCTCTCCTAAAAATAATTAACAACTCC...TAA'),\n",
       " 'Pygoscelis antarctica': Seq('ATGGCCCCCAACCTCCGAAAATCCCACCCTCTCCTAAAAATAATCAACAACTCC...TAG'),\n",
       " 'Pygoscelis papua': Seq('ATGGCCCCCAACCTTCGAAAATCCCACCCTCTCCTAAAAATAATCAACAAATCC...TAG'),\n",
       " 'Spheniscus demersus': Seq('ATGGCCCCCAACCTCCGAAAATCCCACCCTCTCCTAAAAACAATCAACAACTCC...TAA'),\n",
       " 'Spheniscus humboldti': Seq('ATGGCCCCCAACCTCCGAAAATCCCACCCTCTCCTAAAAACAATCAACAACTCC...TAA'),\n",
       " 'Spheniscus magellanicus': Seq('ATGGCCCCCAACCTCCGAAAATCCCACCCTCTCCTAAAAACAATCAACAACTCC...TAA')}"
      ]
     },
     "execution_count": 6,
     "metadata": {},
     "output_type": "execute_result"
    }
   ],
   "source": [
    "get_sequences_from_file(\"penguins_cytb.fasta.txt\")"
   ]
  },
  {
   "cell_type": "markdown",
   "id": "e62f7da0",
   "metadata": {},
   "source": [
    "# Task 2\n",
    "## String-translate function is used to translate string of nucleotide to string of aa\n",
    "1.(string_nucleotides) creates a loop that reads the codons starting from nuclotide 0 to the third (3). It takes every three nuclotides as a codon, and the loop stops if it finds a stop codon. \n",
    "2. It returns amino acid string the (aa_seq_string object)\n",
    "3. The output is a list of translated amino acids\n",
    "\n",
    "References: https://www.geeksforgeeks.org/dna-protein-python-3/ \n",
    "          : http://biopython.org/DIST/docs/tutorial/Tutorial.html#htoc25"
   ]
  },
  {
   "cell_type": "code",
   "execution_count": 8,
   "id": "56220737",
   "metadata": {},
   "outputs": [],
   "source": [
    "from Bio.Data import CodonTable"
   ]
  },
  {
   "cell_type": "code",
   "execution_count": 9,
   "id": "ea6fd946",
   "metadata": {},
   "outputs": [],
   "source": [
    "def translate_dna(string_nucleotides):\n",
    "    mito_table = CodonTable.unambiguous_dna_by_name[\"Vertebrate Mitochondrial\"] \n",
    "    aa = \"\"\n",
    "    aa_seq_string = \"\"\n",
    "    for i in range(0,len(string_nucleotides),3): \n",
    "        codon = string_nucleotides[i:i+3] \n",
    "        if codon not in mito_table.stop_codons: \n",
    "            aa = mito_table.forward_table[codon] \n",
    "            aa_seq_string += aa \n",
    "        else: \n",
    "            return(aa_seq_string)"
   ]
  },
  {
   "cell_type": "code",
   "execution_count": 10,
   "id": "21748a79",
   "metadata": {},
   "outputs": [
    {
     "name": "stdout",
     "output_type": "stream",
     "text": [
      "Table 2 Vertebrate Mitochondrial, SGC1\n",
      "\n",
      "  |  T      |  C      |  A      |  G      |\n",
      "--+---------+---------+---------+---------+--\n",
      "T | TTT F   | TCT S   | TAT Y   | TGT C   | T\n",
      "T | TTC F   | TCC S   | TAC Y   | TGC C   | C\n",
      "T | TTA L   | TCA S   | TAA Stop| TGA W   | A\n",
      "T | TTG L   | TCG S   | TAG Stop| TGG W   | G\n",
      "--+---------+---------+---------+---------+--\n",
      "C | CTT L   | CCT P   | CAT H   | CGT R   | T\n",
      "C | CTC L   | CCC P   | CAC H   | CGC R   | C\n",
      "C | CTA L   | CCA P   | CAA Q   | CGA R   | A\n",
      "C | CTG L   | CCG P   | CAG Q   | CGG R   | G\n",
      "--+---------+---------+---------+---------+--\n",
      "A | ATT I(s)| ACT T   | AAT N   | AGT S   | T\n",
      "A | ATC I(s)| ACC T   | AAC N   | AGC S   | C\n",
      "A | ATA M(s)| ACA T   | AAA K   | AGA Stop| A\n",
      "A | ATG M(s)| ACG T   | AAG K   | AGG Stop| G\n",
      "--+---------+---------+---------+---------+--\n",
      "G | GTT V   | GCT A   | GAT D   | GGT G   | T\n",
      "G | GTC V   | GCC A   | GAC D   | GGC G   | C\n",
      "G | GTA V   | GCA A   | GAA E   | GGA G   | A\n",
      "G | GTG V(s)| GCG A   | GAG E   | GGG G   | G\n",
      "--+---------+---------+---------+---------+--\n"
     ]
    }
   ],
   "source": [
    "print(CodonTable.unambiguous_dna_by_name[\"Vertebrate Mitochondrial\"])"
   ]
  },
  {
   "cell_type": "markdown",
   "id": "0ab64473",
   "metadata": {},
   "source": [
    "### To confirm the code function\n",
    "1. Select an entry in the data to translate. Say you want to pick and translate Spheniscus demersus in penguins_cytb.fasta.txt"
   ]
  },
  {
   "cell_type": "code",
   "execution_count": 11,
   "id": "cc62ed86",
   "metadata": {},
   "outputs": [
    {
     "data": {
      "text/plain": [
       "'MAPNLRKSHPLLKTINNSLIDLPTPSNISAWWNFGSLLGICLATQILTGLLLAAHYTADTTLAFSSVAHMCRNVQYGWLIRNLHANGASFFFICIYLHIGRGLYYGSYLYKETWNTGIILLLTLMATAFVGYVLPWGQMSFWGATVITNLFSAIPYIGQTLVEWAWGGFSVDNPTLTRFFALHFLLPFMITGLTLIHLTFLHESGSNNPLGIVANSDKIPFHPYYSTKDILGFMLLLLPLTTLALFSPNLLGDPENFTPANPLVTPPHIKPEWYFLFAYAILRSIPNKLGGVLALAASVLILFLMPLLHKSKQRTMAFRPLSQLLFWTLVANLIILTWIGSQPVEHPFIAIGQLASFTYFTTLLILFPLAGALENKMLNH'"
      ]
     },
     "execution_count": 11,
     "metadata": {},
     "output_type": "execute_result"
    }
   ],
   "source": [
    "pen_dna_seq = get_sequences_from_file(\"penguins_cytb.fasta.txt\")[\"Spheniscus demersus\"] \n",
    "amino_seq = translate_dna(pen_dna_seq)\n",
    "amino_seq"
   ]
  },
  {
   "cell_type": "markdown",
   "id": "2c2f5779",
   "metadata": {},
   "source": [
    "## Task 3\n",
    "### Alternative function \n",
    "This code translates nucleotides into amino acids, excluding the stop codons\n",
    "\n",
    "The argument is pen_dna\n",
    "\n",
    "The output is a list of translated amino acid sequence"
   ]
  },
  {
   "cell_type": "code",
   "execution_count": 12,
   "id": "0bd1e71d",
   "metadata": {},
   "outputs": [],
   "source": [
    "from Bio.Seq import Seq\n",
    "def translate_dna_1(dna_sequence):\n",
    "    pen_dna_seq = Seq(dna_sequence)\n",
    "    amino_seq = pen_dna_seq.translate(table = 2, to_stop = True)\n",
    "    return amino_seq"
   ]
  },
  {
   "cell_type": "code",
   "execution_count": 13,
   "id": "181fd8c8",
   "metadata": {},
   "outputs": [
    {
     "data": {
      "text/plain": [
       "Seq('MAPNLRKSHPLLKTINNSLIDLPTPSNISAWWNFGSLLGICLATQILTGLLLAA...LNH')"
      ]
     },
     "execution_count": 13,
     "metadata": {},
     "output_type": "execute_result"
    }
   ],
   "source": [
    "translate_dna_1(str(pen_dna_seq))"
   ]
  },
  {
   "cell_type": "code",
   "execution_count": 14,
   "id": "03507767",
   "metadata": {},
   "outputs": [
    {
     "data": {
      "text/plain": [
       "True"
      ]
     },
     "execution_count": 14,
     "metadata": {},
     "output_type": "execute_result"
    }
   ],
   "source": [
    "translate_dna_1(str(pen_dna_seq)) == amino_seq"
   ]
  },
  {
   "cell_type": "markdown",
   "id": "3e5fe33f",
   "metadata": {},
   "source": [
    "Task 4\n",
    "## Function that calculates molecular weigh of each each amino acid sequence\n",
    "1. The functions used here are molecular weight and protein analysis\n",
    "2. This code checks the molecular weight of the amino_seq\n",
    "3. The argument is amino_seq\n",
    "4. The output is the molecular weight of the amino acid in the file\n",
    "\n",
    "References:https://biopython.org/wiki/ProtParam\n",
    "          :https://biopython.org/docs/1.75/api/Bio.Seq.html  \n",
    "          "
   ]
  },
  {
   "cell_type": "code",
   "execution_count": 15,
   "id": "4ec350b7",
   "metadata": {},
   "outputs": [],
   "source": [
    "from Bio.SeqUtils.ProtParam import ProteinAnalysis\n",
    "from Bio.SeqUtils import molecular_weight\n",
    "def compute_molecular_weight(amino_seq): \n",
    "    analysis_seq = ProteinAnalysis(amino_seq)\n",
    "    weight = analysis_seq.molecular_weight()\n",
    "    return(weight)\n"
   ]
  },
  {
   "cell_type": "code",
   "execution_count": 16,
   "id": "27f44226",
   "metadata": {},
   "outputs": [
    {
     "data": {
      "text/plain": [
       "42431.54900000002"
      ]
     },
     "execution_count": 16,
     "metadata": {},
     "output_type": "execute_result"
    }
   ],
   "source": [
    "compute_molecular_weight(amino_seq)"
   ]
  },
  {
   "cell_type": "markdown",
   "id": "e1efe391",
   "metadata": {},
   "source": [
    "##Task 5\n",
    "### The GC-content of each DNA sequence\n",
    "1. This function is for gc_content\n",
    "2. It counts percent G and C nucleotides from nucleotide sequence\n",
    "3. The argument is dna_sequence \n",
    "4. count all the letters that are not ATGC (i.e 'N' and 'n') and removes them.  \n",
    "5. The output is gc_percentage\n",
    "\n",
    "Reference: https://biopython.org/docs/1.75/api/Bio.SeqUtils.ProtParam.html"
   ]
  },
  {
   "cell_type": "code",
   "execution_count": 17,
   "id": "763bbaee",
   "metadata": {},
   "outputs": [],
   "source": [
    "def gc_content(dna_sequence):\n",
    "    na_bases = dna_sequence.count('n')+dna_sequence.count('N') \n",
    "    gc_percentage = float(dna_sequence.count('C')+dna_sequence.count('G'))*100.0/(len(dna_sequence)-na_bases) \n",
    "    return gc_percentage"
   ]
  },
  {
   "cell_type": "code",
   "execution_count": 18,
   "id": "636058e4",
   "metadata": {},
   "outputs": [
    {
     "data": {
      "text/plain": [
       "48.29396325459317"
      ]
     },
     "execution_count": 18,
     "metadata": {},
     "output_type": "execute_result"
    }
   ],
   "source": [
    "gc_content(pen_dna_seq)"
   ]
  },
  {
   "cell_type": "markdown",
   "id": "38fae1ff",
   "metadata": {},
   "source": [
    "## MAIN"
   ]
  },
  {
   "cell_type": "code",
   "execution_count": 19,
   "id": "fb88e587",
   "metadata": {},
   "outputs": [],
   "source": [
    "penguins_seqs = get_sequences_from_file(\"penguins_cytb.fasta.txt\") \n",
    "penguins_df = pd.read_csv(\"penguins_mass.csv\") # Includes only data for body mass \n",
    "species_list = list(penguins_df.species)"
   ]
  },
  {
   "cell_type": "code",
   "execution_count": 20,
   "id": "64172a3f",
   "metadata": {},
   "outputs": [
    {
     "data": {
      "text/html": [
       "<div>\n",
       "<style scoped>\n",
       "    .dataframe tbody tr th:only-of-type {\n",
       "        vertical-align: middle;\n",
       "    }\n",
       "\n",
       "    .dataframe tbody tr th {\n",
       "        vertical-align: top;\n",
       "    }\n",
       "\n",
       "    .dataframe thead th {\n",
       "        text-align: right;\n",
       "    }\n",
       "</style>\n",
       "<table border=\"1\" class=\"dataframe\">\n",
       "  <thead>\n",
       "    <tr style=\"text-align: right;\">\n",
       "      <th></th>\n",
       "      <th>species</th>\n",
       "      <th>mass</th>\n",
       "    </tr>\n",
       "  </thead>\n",
       "  <tbody>\n",
       "    <tr>\n",
       "      <th>0</th>\n",
       "      <td>Aptenodytes forsteri</td>\n",
       "      <td>28.00</td>\n",
       "    </tr>\n",
       "    <tr>\n",
       "      <th>1</th>\n",
       "      <td>Aptenodytes patagonicus</td>\n",
       "      <td>13.40</td>\n",
       "    </tr>\n",
       "    <tr>\n",
       "      <th>2</th>\n",
       "      <td>Eudyptes chrysocome</td>\n",
       "      <td>2.80</td>\n",
       "    </tr>\n",
       "    <tr>\n",
       "      <th>3</th>\n",
       "      <td>Eudyptes chrysolophus</td>\n",
       "      <td>4.50</td>\n",
       "    </tr>\n",
       "    <tr>\n",
       "      <th>4</th>\n",
       "      <td>Eudyptes sclateri</td>\n",
       "      <td>4.25</td>\n",
       "    </tr>\n",
       "    <tr>\n",
       "      <th>5</th>\n",
       "      <td>Eudyptula minor</td>\n",
       "      <td>1.60</td>\n",
       "    </tr>\n",
       "    <tr>\n",
       "      <th>6</th>\n",
       "      <td>Pygoscelis adeliae</td>\n",
       "      <td>4.60</td>\n",
       "    </tr>\n",
       "    <tr>\n",
       "      <th>7</th>\n",
       "      <td>Pygoscelis antarctica</td>\n",
       "      <td>4.10</td>\n",
       "    </tr>\n",
       "    <tr>\n",
       "      <th>8</th>\n",
       "      <td>Pygoscelis papua</td>\n",
       "      <td>6.10</td>\n",
       "    </tr>\n",
       "    <tr>\n",
       "      <th>9</th>\n",
       "      <td>Spheniscus demersus</td>\n",
       "      <td>3.20</td>\n",
       "    </tr>\n",
       "    <tr>\n",
       "      <th>10</th>\n",
       "      <td>Spheniscus humboldti</td>\n",
       "      <td>4.75</td>\n",
       "    </tr>\n",
       "    <tr>\n",
       "      <th>11</th>\n",
       "      <td>Spheniscus magellanicus</td>\n",
       "      <td>3.40</td>\n",
       "    </tr>\n",
       "  </tbody>\n",
       "</table>\n",
       "</div>"
      ],
      "text/plain": [
       "                    species   mass\n",
       "0      Aptenodytes forsteri  28.00\n",
       "1   Aptenodytes patagonicus  13.40\n",
       "2       Eudyptes chrysocome   2.80\n",
       "3     Eudyptes chrysolophus   4.50\n",
       "4         Eudyptes sclateri   4.25\n",
       "5           Eudyptula minor   1.60\n",
       "6        Pygoscelis adeliae   4.60\n",
       "7     Pygoscelis antarctica   4.10\n",
       "8          Pygoscelis papua   6.10\n",
       "9       Spheniscus demersus   3.20\n",
       "10     Spheniscus humboldti   4.75\n",
       "11  Spheniscus magellanicus   3.40"
      ]
     },
     "execution_count": 20,
     "metadata": {},
     "output_type": "execute_result"
    }
   ],
   "source": [
    "penguins_df"
   ]
  },
  {
   "cell_type": "markdown",
   "id": "22090300",
   "metadata": {},
   "source": [
    "## Task 6\n",
    "1. Add two new columns to the penguin DataFrame: (1) molecular weight and (2) GC content with 'NaN' to indicate the columns are empty"
   ]
  },
  {
   "cell_type": "code",
   "execution_count": 21,
   "id": "f621936f",
   "metadata": {},
   "outputs": [
    {
     "data": {
      "text/html": [
       "<div>\n",
       "<style scoped>\n",
       "    .dataframe tbody tr th:only-of-type {\n",
       "        vertical-align: middle;\n",
       "    }\n",
       "\n",
       "    .dataframe tbody tr th {\n",
       "        vertical-align: top;\n",
       "    }\n",
       "\n",
       "    .dataframe thead th {\n",
       "        text-align: right;\n",
       "    }\n",
       "</style>\n",
       "<table border=\"1\" class=\"dataframe\">\n",
       "  <thead>\n",
       "    <tr style=\"text-align: right;\">\n",
       "      <th></th>\n",
       "      <th>species</th>\n",
       "      <th>mass</th>\n",
       "      <th>molecular weight</th>\n",
       "      <th>GC content</th>\n",
       "    </tr>\n",
       "  </thead>\n",
       "  <tbody>\n",
       "    <tr>\n",
       "      <th>0</th>\n",
       "      <td>Aptenodytes forsteri</td>\n",
       "      <td>28.00</td>\n",
       "      <td>NaN</td>\n",
       "      <td>NaN</td>\n",
       "    </tr>\n",
       "    <tr>\n",
       "      <th>1</th>\n",
       "      <td>Aptenodytes patagonicus</td>\n",
       "      <td>13.40</td>\n",
       "      <td>NaN</td>\n",
       "      <td>NaN</td>\n",
       "    </tr>\n",
       "    <tr>\n",
       "      <th>2</th>\n",
       "      <td>Eudyptes chrysocome</td>\n",
       "      <td>2.80</td>\n",
       "      <td>NaN</td>\n",
       "      <td>NaN</td>\n",
       "    </tr>\n",
       "    <tr>\n",
       "      <th>3</th>\n",
       "      <td>Eudyptes chrysolophus</td>\n",
       "      <td>4.50</td>\n",
       "      <td>NaN</td>\n",
       "      <td>NaN</td>\n",
       "    </tr>\n",
       "    <tr>\n",
       "      <th>4</th>\n",
       "      <td>Eudyptes sclateri</td>\n",
       "      <td>4.25</td>\n",
       "      <td>NaN</td>\n",
       "      <td>NaN</td>\n",
       "    </tr>\n",
       "    <tr>\n",
       "      <th>5</th>\n",
       "      <td>Eudyptula minor</td>\n",
       "      <td>1.60</td>\n",
       "      <td>NaN</td>\n",
       "      <td>NaN</td>\n",
       "    </tr>\n",
       "    <tr>\n",
       "      <th>6</th>\n",
       "      <td>Pygoscelis adeliae</td>\n",
       "      <td>4.60</td>\n",
       "      <td>NaN</td>\n",
       "      <td>NaN</td>\n",
       "    </tr>\n",
       "    <tr>\n",
       "      <th>7</th>\n",
       "      <td>Pygoscelis antarctica</td>\n",
       "      <td>4.10</td>\n",
       "      <td>NaN</td>\n",
       "      <td>NaN</td>\n",
       "    </tr>\n",
       "    <tr>\n",
       "      <th>8</th>\n",
       "      <td>Pygoscelis papua</td>\n",
       "      <td>6.10</td>\n",
       "      <td>NaN</td>\n",
       "      <td>NaN</td>\n",
       "    </tr>\n",
       "    <tr>\n",
       "      <th>9</th>\n",
       "      <td>Spheniscus demersus</td>\n",
       "      <td>3.20</td>\n",
       "      <td>NaN</td>\n",
       "      <td>NaN</td>\n",
       "    </tr>\n",
       "    <tr>\n",
       "      <th>10</th>\n",
       "      <td>Spheniscus humboldti</td>\n",
       "      <td>4.75</td>\n",
       "      <td>NaN</td>\n",
       "      <td>NaN</td>\n",
       "    </tr>\n",
       "    <tr>\n",
       "      <th>11</th>\n",
       "      <td>Spheniscus magellanicus</td>\n",
       "      <td>3.40</td>\n",
       "      <td>NaN</td>\n",
       "      <td>NaN</td>\n",
       "    </tr>\n",
       "  </tbody>\n",
       "</table>\n",
       "</div>"
      ],
      "text/plain": [
       "                    species   mass molecular weight GC content\n",
       "0      Aptenodytes forsteri  28.00              NaN        NaN\n",
       "1   Aptenodytes patagonicus  13.40              NaN        NaN\n",
       "2       Eudyptes chrysocome   2.80              NaN        NaN\n",
       "3     Eudyptes chrysolophus   4.50              NaN        NaN\n",
       "4         Eudyptes sclateri   4.25              NaN        NaN\n",
       "5           Eudyptula minor   1.60              NaN        NaN\n",
       "6        Pygoscelis adeliae   4.60              NaN        NaN\n",
       "7     Pygoscelis antarctica   4.10              NaN        NaN\n",
       "8          Pygoscelis papua   6.10              NaN        NaN\n",
       "9       Spheniscus demersus   3.20              NaN        NaN\n",
       "10     Spheniscus humboldti   4.75              NaN        NaN\n",
       "11  Spheniscus magellanicus   3.40              NaN        NaN"
      ]
     },
     "execution_count": 21,
     "metadata": {},
     "output_type": "execute_result"
    }
   ],
   "source": [
    "penguins_df[\"molecular weight\"] = \"NaN\" \n",
    "penguins_df[\"GC content\"] = \"NaN\" \n",
    "penguins_df"
   ]
  },
  {
   "cell_type": "markdown",
   "id": "b8b8c04f",
   "metadata": {},
   "source": [
    "### Task 7\n",
    "1. This for-loop translates each sequence and also gets molecular weight and computes the GC content of each translated sequence, and adds the data to DataFrame"
   ]
  },
  {
   "cell_type": "code",
   "execution_count": 24,
   "id": "def8bd01",
   "metadata": {},
   "outputs": [],
   "source": [
    "row = 0\n",
    "for key, value in penguins_seqs.items():\n",
    "    trans_all = translate_dna_1(str(value))\n",
    "    molecular_weight = compute_molecular_weight(amino_seq)\n",
    "    GC_content = gc_content(str(value))\n",
    "    penguins_df.at[row, 'GC content'] = GC_content \n",
    "    penguins_df.at[row, 'molecular weight'] = molecular_weight\n",
    "    row +=1 "
   ]
  },
  {
   "cell_type": "code",
   "execution_count": 26,
   "id": "054fde56",
   "metadata": {},
   "outputs": [
    {
     "data": {
      "text/html": [
       "<div>\n",
       "<style scoped>\n",
       "    .dataframe tbody tr th:only-of-type {\n",
       "        vertical-align: middle;\n",
       "    }\n",
       "\n",
       "    .dataframe tbody tr th {\n",
       "        vertical-align: top;\n",
       "    }\n",
       "\n",
       "    .dataframe thead th {\n",
       "        text-align: right;\n",
       "    }\n",
       "</style>\n",
       "<table border=\"1\" class=\"dataframe\">\n",
       "  <thead>\n",
       "    <tr style=\"text-align: right;\">\n",
       "      <th></th>\n",
       "      <th>species</th>\n",
       "      <th>mass</th>\n",
       "      <th>molecular weight</th>\n",
       "      <th>GC content</th>\n",
       "    </tr>\n",
       "  </thead>\n",
       "  <tbody>\n",
       "    <tr>\n",
       "      <th>0</th>\n",
       "      <td>Aptenodytes forsteri</td>\n",
       "      <td>28.00</td>\n",
       "      <td>42431.549</td>\n",
       "      <td>48.381452</td>\n",
       "    </tr>\n",
       "    <tr>\n",
       "      <th>1</th>\n",
       "      <td>Aptenodytes patagonicus</td>\n",
       "      <td>13.40</td>\n",
       "      <td>42431.549</td>\n",
       "      <td>49.693788</td>\n",
       "    </tr>\n",
       "    <tr>\n",
       "      <th>2</th>\n",
       "      <td>Eudyptes chrysocome</td>\n",
       "      <td>2.80</td>\n",
       "      <td>42431.549</td>\n",
       "      <td>51.181102</td>\n",
       "    </tr>\n",
       "    <tr>\n",
       "      <th>3</th>\n",
       "      <td>Eudyptes chrysolophus</td>\n",
       "      <td>4.50</td>\n",
       "      <td>42431.549</td>\n",
       "      <td>50.918635</td>\n",
       "    </tr>\n",
       "    <tr>\n",
       "      <th>4</th>\n",
       "      <td>Eudyptes sclateri</td>\n",
       "      <td>4.25</td>\n",
       "      <td>42431.549</td>\n",
       "      <td>50.831146</td>\n",
       "    </tr>\n",
       "    <tr>\n",
       "      <th>5</th>\n",
       "      <td>Eudyptula minor</td>\n",
       "      <td>1.60</td>\n",
       "      <td>42431.549</td>\n",
       "      <td>49.256343</td>\n",
       "    </tr>\n",
       "    <tr>\n",
       "      <th>6</th>\n",
       "      <td>Pygoscelis adeliae</td>\n",
       "      <td>4.60</td>\n",
       "      <td>42431.549</td>\n",
       "      <td>49.081365</td>\n",
       "    </tr>\n",
       "    <tr>\n",
       "      <th>7</th>\n",
       "      <td>Pygoscelis antarctica</td>\n",
       "      <td>4.10</td>\n",
       "      <td>42431.549</td>\n",
       "      <td>47.769029</td>\n",
       "    </tr>\n",
       "    <tr>\n",
       "      <th>8</th>\n",
       "      <td>Pygoscelis papua</td>\n",
       "      <td>6.10</td>\n",
       "      <td>42431.549</td>\n",
       "      <td>47.156605</td>\n",
       "    </tr>\n",
       "    <tr>\n",
       "      <th>9</th>\n",
       "      <td>Spheniscus demersus</td>\n",
       "      <td>3.20</td>\n",
       "      <td>42431.549</td>\n",
       "      <td>48.293963</td>\n",
       "    </tr>\n",
       "    <tr>\n",
       "      <th>10</th>\n",
       "      <td>Spheniscus humboldti</td>\n",
       "      <td>4.75</td>\n",
       "      <td>42431.549</td>\n",
       "      <td>49.256343</td>\n",
       "    </tr>\n",
       "    <tr>\n",
       "      <th>11</th>\n",
       "      <td>Spheniscus magellanicus</td>\n",
       "      <td>3.40</td>\n",
       "      <td>42431.549</td>\n",
       "      <td>48.206474</td>\n",
       "    </tr>\n",
       "  </tbody>\n",
       "</table>\n",
       "</div>"
      ],
      "text/plain": [
       "                    species   mass molecular weight GC content\n",
       "0      Aptenodytes forsteri  28.00        42431.549  48.381452\n",
       "1   Aptenodytes patagonicus  13.40        42431.549  49.693788\n",
       "2       Eudyptes chrysocome   2.80        42431.549  51.181102\n",
       "3     Eudyptes chrysolophus   4.50        42431.549  50.918635\n",
       "4         Eudyptes sclateri   4.25        42431.549  50.831146\n",
       "5           Eudyptula minor   1.60        42431.549  49.256343\n",
       "6        Pygoscelis adeliae   4.60        42431.549  49.081365\n",
       "7     Pygoscelis antarctica   4.10        42431.549  47.769029\n",
       "8          Pygoscelis papua   6.10        42431.549  47.156605\n",
       "9       Spheniscus demersus   3.20        42431.549  48.293963\n",
       "10     Spheniscus humboldti   4.75        42431.549  49.256343\n",
       "11  Spheniscus magellanicus   3.40        42431.549  48.206474"
      ]
     },
     "execution_count": 26,
     "metadata": {},
     "output_type": "execute_result"
    }
   ],
   "source": [
    "penguins_df  "
   ]
  },
  {
   "cell_type": "markdown",
   "id": "f1e3bc36",
   "metadata": {},
   "source": [
    "### Task 8\n",
    "- Bar-chart of the mass with the x-axes labeled with species names"
   ]
  },
  {
   "cell_type": "code",
   "execution_count": 27,
   "id": "dcc0a782",
   "metadata": {},
   "outputs": [],
   "source": [
    "import matplotlib.pyplot as plt\n",
    "import seaborn as sns"
   ]
  },
  {
   "cell_type": "code",
   "execution_count": 28,
   "id": "9beaf9a8",
   "metadata": {},
   "outputs": [
    {
     "data": {
      "text/plain": [
       "[Text(0, 0, 'Aptenodytes forsteri'),\n",
       " Text(1, 0, 'Aptenodytes patagonicus'),\n",
       " Text(2, 0, 'Eudyptes chrysocome'),\n",
       " Text(3, 0, 'Eudyptes chrysolophus'),\n",
       " Text(4, 0, 'Eudyptes sclateri'),\n",
       " Text(5, 0, 'Eudyptula minor'),\n",
       " Text(6, 0, 'Pygoscelis adeliae'),\n",
       " Text(7, 0, 'Pygoscelis antarctica'),\n",
       " Text(8, 0, 'Pygoscelis papua'),\n",
       " Text(9, 0, 'Spheniscus demersus'),\n",
       " Text(10, 0, 'Spheniscus humboldti'),\n",
       " Text(11, 0, 'Spheniscus magellanicus')]"
      ]
     },
     "execution_count": 28,
     "metadata": {},
     "output_type": "execute_result"
    },
    {
     "data": {
      "image/png": "[encoded data removed]",
      "text/plain": [
       "<Figure size 432x288 with 1 Axes>"
      ]
     },
     "metadata": {
      "needs_background": "light"
     },
     "output_type": "display_data"
    }
   ],
   "source": [
    "bar_chart = sns.barplot(x=\"species\", y=\"mass\",data=penguins_df,) \n",
    "bar_chart.set_xticklabels(labels = penguins_df.species, rotation= 90)"
   ]
  },
  {
   "cell_type": "markdown",
   "id": "cebc2f6e",
   "metadata": {},
   "source": [
    "## Q1 What is the smallest penguin species? \n",
    "1. Eudyptula minor\n",
    "## Q2 What is the geographical range of this species?\n",
    "2. They are native to the coasts of New Zealand and also found in the southern coast of Australia, and as far north as the South Solitary Island off the coast of New South Wales. "
   ]
  },
  {
   "cell_type": "markdown",
   "id": "a871d20c",
   "metadata": {},
   "source": [
    "## Task 9\n",
    "### Visualization of the molecular weight (y-axis) as a function of GC-content (x-axis)"
   ]
  },
  {
   "cell_type": "code",
   "execution_count": 29,
   "id": "6f71277e",
   "metadata": {},
   "outputs": [
    {
     "data": {
      "text/plain": [
       "<seaborn.axisgrid.FacetGrid at 0x1e24cf53670>"
      ]
     },
     "execution_count": 29,
     "metadata": {},
     "output_type": "execute_result"
    },
    {
     "data": {
      "image/png": "[encoded data removed]",
      "text/plain": [
       "<Figure size 667.25x504 with 1 Axes>"
      ]
     },
     "metadata": {
      "needs_background": "light"
     },
     "output_type": "display_data"
    }
   ],
   "source": [
    "sns.lmplot(x=\"GC content\", y=\"molecular weight\", data=penguins_df, fit_reg=False, height=7, aspect=1, scatter_kws={'alpha':0.9,\"s\": 60}, \n",
    "           hue='species', markers='D')"
   ]
  },
  {
   "cell_type": "markdown",
   "id": "79a4f557",
   "metadata": {},
   "source": [
    "## Task 10\n",
    "### Create new DataFrame to a file called \"penguins_mass_cytb.csv\""
   ]
  },
  {
   "cell_type": "code",
   "execution_count": 30,
   "id": "b6b7a627",
   "metadata": {
    "scrolled": true
   },
   "outputs": [
    {
     "data": {
      "text/html": [
       "<div>\n",
       "<style scoped>\n",
       "    .dataframe tbody tr th:only-of-type {\n",
       "        vertical-align: middle;\n",
       "    }\n",
       "\n",
       "    .dataframe tbody tr th {\n",
       "        vertical-align: top;\n",
       "    }\n",
       "\n",
       "    .dataframe thead th {\n",
       "        text-align: right;\n",
       "    }\n",
       "</style>\n",
       "<table border=\"1\" class=\"dataframe\">\n",
       "  <thead>\n",
       "    <tr style=\"text-align: right;\">\n",
       "      <th></th>\n",
       "      <th>species</th>\n",
       "      <th>mass</th>\n",
       "      <th>molecular weight</th>\n",
       "      <th>GC content</th>\n",
       "    </tr>\n",
       "  </thead>\n",
       "  <tbody>\n",
       "    <tr>\n",
       "      <th>0</th>\n",
       "      <td>Aptenodytes forsteri</td>\n",
       "      <td>28.00</td>\n",
       "      <td>42431.549</td>\n",
       "      <td>48.381452</td>\n",
       "    </tr>\n",
       "    <tr>\n",
       "      <th>1</th>\n",
       "      <td>Aptenodytes patagonicus</td>\n",
       "      <td>13.40</td>\n",
       "      <td>42431.549</td>\n",
       "      <td>49.693788</td>\n",
       "    </tr>\n",
       "    <tr>\n",
       "      <th>2</th>\n",
       "      <td>Eudyptes chrysocome</td>\n",
       "      <td>2.80</td>\n",
       "      <td>42431.549</td>\n",
       "      <td>51.181102</td>\n",
       "    </tr>\n",
       "    <tr>\n",
       "      <th>3</th>\n",
       "      <td>Eudyptes chrysolophus</td>\n",
       "      <td>4.50</td>\n",
       "      <td>42431.549</td>\n",
       "      <td>50.918635</td>\n",
       "    </tr>\n",
       "    <tr>\n",
       "      <th>4</th>\n",
       "      <td>Eudyptes sclateri</td>\n",
       "      <td>4.25</td>\n",
       "      <td>42431.549</td>\n",
       "      <td>50.831146</td>\n",
       "    </tr>\n",
       "    <tr>\n",
       "      <th>5</th>\n",
       "      <td>Eudyptula minor</td>\n",
       "      <td>1.60</td>\n",
       "      <td>42431.549</td>\n",
       "      <td>49.256343</td>\n",
       "    </tr>\n",
       "    <tr>\n",
       "      <th>6</th>\n",
       "      <td>Pygoscelis adeliae</td>\n",
       "      <td>4.60</td>\n",
       "      <td>42431.549</td>\n",
       "      <td>49.081365</td>\n",
       "    </tr>\n",
       "    <tr>\n",
       "      <th>7</th>\n",
       "      <td>Pygoscelis antarctica</td>\n",
       "      <td>4.10</td>\n",
       "      <td>42431.549</td>\n",
       "      <td>47.769029</td>\n",
       "    </tr>\n",
       "    <tr>\n",
       "      <th>8</th>\n",
       "      <td>Pygoscelis papua</td>\n",
       "      <td>6.10</td>\n",
       "      <td>42431.549</td>\n",
       "      <td>47.156605</td>\n",
       "    </tr>\n",
       "    <tr>\n",
       "      <th>9</th>\n",
       "      <td>Spheniscus demersus</td>\n",
       "      <td>3.20</td>\n",
       "      <td>42431.549</td>\n",
       "      <td>48.293963</td>\n",
       "    </tr>\n",
       "    <tr>\n",
       "      <th>10</th>\n",
       "      <td>Spheniscus humboldti</td>\n",
       "      <td>4.75</td>\n",
       "      <td>42431.549</td>\n",
       "      <td>49.256343</td>\n",
       "    </tr>\n",
       "    <tr>\n",
       "      <th>11</th>\n",
       "      <td>Spheniscus magellanicus</td>\n",
       "      <td>3.40</td>\n",
       "      <td>42431.549</td>\n",
       "      <td>48.206474</td>\n",
       "    </tr>\n",
       "  </tbody>\n",
       "</table>\n",
       "</div>"
      ],
      "text/plain": [
       "                    species   mass  molecular weight  GC content\n",
       "0      Aptenodytes forsteri  28.00         42431.549   48.381452\n",
       "1   Aptenodytes patagonicus  13.40         42431.549   49.693788\n",
       "2       Eudyptes chrysocome   2.80         42431.549   51.181102\n",
       "3     Eudyptes chrysolophus   4.50         42431.549   50.918635\n",
       "4         Eudyptes sclateri   4.25         42431.549   50.831146\n",
       "5           Eudyptula minor   1.60         42431.549   49.256343\n",
       "6        Pygoscelis adeliae   4.60         42431.549   49.081365\n",
       "7     Pygoscelis antarctica   4.10         42431.549   47.769029\n",
       "8          Pygoscelis papua   6.10         42431.549   47.156605\n",
       "9       Spheniscus demersus   3.20         42431.549   48.293963\n",
       "10     Spheniscus humboldti   4.75         42431.549   49.256343\n",
       "11  Spheniscus magellanicus   3.40         42431.549   48.206474"
      ]
     },
     "execution_count": 30,
     "metadata": {},
     "output_type": "execute_result"
    }
   ],
   "source": [
    "penguins_df.to_csv('penguins_mass_cytb.csv', index=False)\n",
    "penguins = pd.read_csv(\"penguins_mass_cytb.csv\")\n",
    "penguins"
   ]
  },
  {
   "cell_type": "markdown",
   "id": "eca8d43f",
   "metadata": {},
   "source": [
    "## Task 11\n",
    "### Functions or anything that might be interesting and fun\n",
    "### Plot 1: GC content against molecular weight\n",
    "### Plot 2: GC content against mass\n"
   ]
  },
  {
   "cell_type": "code",
   "execution_count": 32,
   "id": "850da1e2",
   "metadata": {},
   "outputs": [
    {
     "data": {
      "text/plain": [
       "<seaborn.axisgrid.FacetGrid at 0x1e24d7ebf70>"
      ]
     },
     "execution_count": 32,
     "metadata": {},
     "output_type": "execute_result"
    },
    {
     "data": {
      "image/png": "[encoded data removed]",
      "text/plain": [
       "<Figure size 1027.25x576 with 1 Axes>"
      ]
     },
     "metadata": {
      "needs_background": "light"
     },
     "output_type": "display_data"
    }
   ],
   "source": [
    "sns.lmplot(x=\"GC content\", y=\"molecular weight\", data=penguins_df, \n",
    "           fit_reg=False, height=8, aspect=1.5, scatter_kws={'alpha':0.3,\"s\": 50}, \n",
    "           hue='species', markers='D')"
   ]
  },
  {
   "cell_type": "code",
   "execution_count": 33,
   "id": "bd2b324e",
   "metadata": {},
   "outputs": [
    {
     "data": {
      "text/plain": [
       "<seaborn.axisgrid.FacetGrid at 0x1e24db84e20>"
      ]
     },
     "execution_count": 33,
     "metadata": {},
     "output_type": "execute_result"
    },
    {
     "data": {
      "image/png": "[encoded data removed]",
      "text/plain": [
       "<Figure size 1027.25x576 with 1 Axes>"
      ]
     },
     "metadata": {
      "needs_background": "light"
     },
     "output_type": "display_data"
    }
   ],
   "source": [
    "sns.lmplot(x=\"GC content\", y=\"mass\", data=penguins_df, \n",
    "           fit_reg=False, height=8, aspect=1.5, scatter_kws={'alpha':0.3,\"s\": 50}, \n",
    "           hue='species', markers='D')"
   ]
  }
 ],
 "metadata": {
  "kernelspec": {
   "display_name": "Python 3 (ipykernel)",
   "language": "python",
   "name": "python3"
  },
  "language_info": {
   "codemirror_mode": {
    "name": "ipython",
    "version": 3
   },
   "file_extension": ".py",
   "mimetype": "text/x-python",
   "name": "python",
   "nbconvert_exporter": "python",
   "pygments_lexer": "ipython3",
   "version": "3.9.7"
  }
 },
 "nbformat": 4,
 "nbformat_minor": 5
}
